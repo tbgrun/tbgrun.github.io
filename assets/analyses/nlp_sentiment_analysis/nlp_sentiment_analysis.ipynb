{
 "cells": [
  {
   "cell_type": "markdown",
   "id": "cd50684d",
   "metadata": {},
   "source": [
    "# NLP Sentiment Analysis"
   ]
  },
  {
   "cell_type": "markdown",
   "id": "327a0f70",
   "metadata": {},
   "source": [
    "---"
   ]
  },
  {
   "cell_type": "markdown",
   "id": "e127309f",
   "metadata": {},
   "source": [
    "## Required Dependencies"
   ]
  },
  {
   "cell_type": "code",
   "execution_count": 3,
   "id": "305ccc8c",
   "metadata": {},
   "outputs": [
    {
     "name": "stdout",
     "output_type": "stream",
     "text": [
      "Collecting seaborn\n",
      "  Using cached seaborn-0.13.2-py3-none-any.whl.metadata (5.4 kB)\n",
      "Requirement already satisfied: numpy!=1.24.0,>=1.20 in c:\\users\\tobia\\appdata\\roaming\\jupyterlab-desktop\\jlab_server\\lib\\site-packages (from seaborn) (2.1.0)\n",
      "Requirement already satisfied: pandas>=1.2 in c:\\users\\tobia\\appdata\\roaming\\jupyterlab-desktop\\jlab_server\\lib\\site-packages (from seaborn) (2.2.2)\n",
      "Requirement already satisfied: matplotlib!=3.6.1,>=3.4 in c:\\users\\tobia\\appdata\\roaming\\jupyterlab-desktop\\jlab_server\\lib\\site-packages (from seaborn) (3.9.2)\n",
      "Requirement already satisfied: contourpy>=1.0.1 in c:\\users\\tobia\\appdata\\roaming\\jupyterlab-desktop\\jlab_server\\lib\\site-packages (from matplotlib!=3.6.1,>=3.4->seaborn) (1.2.1)\n",
      "Requirement already satisfied: cycler>=0.10 in c:\\users\\tobia\\appdata\\roaming\\jupyterlab-desktop\\jlab_server\\lib\\site-packages (from matplotlib!=3.6.1,>=3.4->seaborn) (0.12.1)\n",
      "Requirement already satisfied: fonttools>=4.22.0 in c:\\users\\tobia\\appdata\\roaming\\jupyterlab-desktop\\jlab_server\\lib\\site-packages (from matplotlib!=3.6.1,>=3.4->seaborn) (4.53.1)\n",
      "Requirement already satisfied: kiwisolver>=1.3.1 in c:\\users\\tobia\\appdata\\roaming\\jupyterlab-desktop\\jlab_server\\lib\\site-packages (from matplotlib!=3.6.1,>=3.4->seaborn) (1.4.5)\n",
      "Requirement already satisfied: packaging>=20.0 in c:\\users\\tobia\\appdata\\roaming\\jupyterlab-desktop\\jlab_server\\lib\\site-packages (from matplotlib!=3.6.1,>=3.4->seaborn) (24.1)\n",
      "Requirement already satisfied: pillow>=8 in c:\\users\\tobia\\appdata\\roaming\\jupyterlab-desktop\\jlab_server\\lib\\site-packages (from matplotlib!=3.6.1,>=3.4->seaborn) (10.4.0)\n",
      "Requirement already satisfied: pyparsing>=2.3.1 in c:\\users\\tobia\\appdata\\roaming\\jupyterlab-desktop\\jlab_server\\lib\\site-packages (from matplotlib!=3.6.1,>=3.4->seaborn) (3.1.4)\n",
      "Requirement already satisfied: python-dateutil>=2.7 in c:\\users\\tobia\\appdata\\roaming\\jupyterlab-desktop\\jlab_server\\lib\\site-packages (from matplotlib!=3.6.1,>=3.4->seaborn) (2.9.0)\n",
      "Requirement already satisfied: pytz>=2020.1 in c:\\users\\tobia\\appdata\\roaming\\jupyterlab-desktop\\jlab_server\\lib\\site-packages (from pandas>=1.2->seaborn) (2024.1)\n",
      "Requirement already satisfied: tzdata>=2022.7 in c:\\users\\tobia\\appdata\\roaming\\jupyterlab-desktop\\jlab_server\\lib\\site-packages (from pandas>=1.2->seaborn) (2024.1)\n",
      "Requirement already satisfied: six>=1.5 in c:\\users\\tobia\\appdata\\roaming\\jupyterlab-desktop\\jlab_server\\lib\\site-packages (from python-dateutil>=2.7->matplotlib!=3.6.1,>=3.4->seaborn) (1.16.0)\n",
      "Using cached seaborn-0.13.2-py3-none-any.whl (294 kB)\n",
      "Installing collected packages: seaborn\n",
      "Successfully installed seaborn-0.13.2\n"
     ]
    }
   ],
   "source": [
    "# !pip install pandas\n",
    "# !pip install numpy\n",
    "# !pip install matplotlib\n",
    "# !pip install seaborn\n",
    "# !pip install scikit-learn\n",
    "# !pip install nltk"
   ]
  },
  {
   "cell_type": "markdown",
   "id": "0a49d1bf",
   "metadata": {},
   "source": [
    "## Environment Setup"
   ]
  },
  {
   "cell_type": "code",
   "execution_count": 6,
   "id": "d9fffddb",
   "metadata": {},
   "outputs": [
    {
     "name": "stderr",
     "output_type": "stream",
     "text": [
      "[nltk_data] Error loading stopwords: <urlopen error [Errno 11001]\n",
      "[nltk_data]     getaddrinfo failed>\n"
     ]
    },
    {
     "data": {
      "text/plain": [
       "False"
      ]
     },
     "execution_count": 6,
     "metadata": {},
     "output_type": "execute_result"
    }
   ],
   "source": [
    "import json\n",
    "import pandas as pd\n",
    "import numpy as np\n",
    "import matplotlib.pyplot as plt\n",
    "import seaborn as sns\n",
    "from sklearn.model_selection import train_test_split\n",
    "from sklearn.feature_extraction.text import CountVectorizer\n",
    "from sklearn.naive_bayes import MultinomialNB\n",
    "from sklearn.metrics import accuracy_score, classification_report\n",
    "import nltk\n",
    "nltk.download('stopwords')"
   ]
  },
  {
   "cell_type": "markdown",
   "id": "b8492b64",
   "metadata": {},
   "source": [
    "## Import Data"
   ]
  },
  {
   "cell_type": "markdown",
   "id": "99b23f59-6760-48b3-8498-fc216222aa29",
   "metadata": {},
   "source": [
    "### Import JSON Files provided by [![yelp.com](https://raw.githubusercontent.com/tbgrun/tbgrun.github.io/main/assets/analyses/nlp_sentiment_analysis/yelp_badge.png)](https://www.yelp.com) throug [Yelp Open Dataset](https://www.yelp.com/dataset)"
   ]
  },
  {
   "cell_type": "code",
   "execution_count": 7,
   "id": "c7e85f51",
   "metadata": {},
   "outputs": [],
   "source": [
    "business_raw = pd.read_json('yelp_dataset/yelp_academic_dataset_business.json', lines=True)\n",
    "review_raw = pd.read_json('yelp_dataset/yelp_academic_dataset_review.json', lines=True)"
   ]
  },
  {
   "cell_type": "markdown",
   "id": "7cf5cbf9-b2ab-49e0-b8e9-c50ecc708ede",
   "metadata": {},
   "source": [
    "### Data Extraction\n",
    "* transform date into usable format\n",
    "* drop unnecessary columns"
   ]
  },
  {
   "cell_type": "code",
   "execution_count": 68,
   "id": "bce807f0-f9eb-4582-8c27-d2355bf864af",
   "metadata": {},
   "outputs": [
    {
     "name": "stdout",
     "output_type": "stream",
     "text": [
      "              business_id                      name  \\\n",
      "0  Pns2l4eNsfO8kk83dixA6A  Abby Rappoport, LAC, CMQ   \n",
      "1  mpf3x-BjTdTEA3yCZrAYPw             The UPS Store   \n",
      "2  tUFrWirKiKi_TAnsVWINQQ                    Target   \n",
      "3  MTSW4McQd7CbVtyjqoe9mw        St Honore Pastries   \n",
      "4  mWMc6_wTdE0EUBKIGXDVfA  Perkiomen Valley Brewery   \n",
      "\n",
      "                           address           city state postal_code  \\\n",
      "0           1616 Chapala St, Ste 2  Santa Barbara    CA       93101   \n",
      "1  87 Grasso Plaza Shopping Center         Affton    MO       63123   \n",
      "2             5255 E Broadway Blvd         Tucson    AZ       85711   \n",
      "3                      935 Race St   Philadelphia    PA       19107   \n",
      "4                    101 Walnut St     Green Lane    PA       18054   \n",
      "\n",
      "    latitude   longitude  stars  review_count  is_open  \\\n",
      "0  34.426679 -119.711197    5.0             7        0   \n",
      "1  38.551126  -90.335695    3.0            15        1   \n",
      "2  32.223236 -110.880452    3.5            22        0   \n",
      "3  39.955505  -75.155564    4.0            80        1   \n",
      "4  40.338183  -75.471659    4.5            13        1   \n",
      "\n",
      "                                          attributes  \\\n",
      "0                      {'ByAppointmentOnly': 'True'}   \n",
      "1             {'BusinessAcceptsCreditCards': 'True'}   \n",
      "2  {'BikeParking': 'True', 'BusinessAcceptsCredit...   \n",
      "3  {'RestaurantsDelivery': 'False', 'OutdoorSeati...   \n",
      "4  {'BusinessAcceptsCreditCards': 'True', 'Wheelc...   \n",
      "\n",
      "                                          categories  \\\n",
      "0  Doctors, Traditional Chinese Medicine, Naturop...   \n",
      "1  Shipping Centers, Local Services, Notaries, Ma...   \n",
      "2  Department Stores, Shopping, Fashion, Home & G...   \n",
      "3  Restaurants, Food, Bubble Tea, Coffee & Tea, B...   \n",
      "4                          Brewpubs, Breweries, Food   \n",
      "\n",
      "                                               hours  \n",
      "0                                               None  \n",
      "1  {'Monday': '0:0-0:0', 'Tuesday': '8:0-18:30', ...  \n",
      "2  {'Monday': '8:0-22:0', 'Tuesday': '8:0-22:0', ...  \n",
      "3  {'Monday': '7:0-20:0', 'Tuesday': '7:0-20:0', ...  \n",
      "4  {'Wednesday': '14:0-22:0', 'Thursday': '16:0-2...  \n",
      "                review_id                 user_id             business_id  \\\n",
      "0  KU_O5udG6zpxOg-VcAEodg  mh_-eMZ6K5RLWhZyISBhwA  XQfwVwDr-v0ZS3_CbbE5Xw   \n",
      "1  BiTunyQ73aT9WBnpR9DZGw  OyoGAe7OKpv6SyGZT5g77Q  7ATYjTIgM3jUlt4UM3IypQ   \n",
      "2  saUsX_uimxRlCVr67Z4Jig  8g_iMtfSiwikVnbP2etR0A  YjUWPpI6HXG530lwP-fb2A   \n",
      "3  AqPFMleE6RsU23_auESxiA  _7bHUi9Uuf5__HHc_Q8guQ  kxX2SOes4o-D3ZQBkiMRfA   \n",
      "4  Sx8TMOWLNuJBWer-0pcmoA  bcjbaE6dDog4jkNY91ncLQ  e4Vwtrqf-wpJfwesgvdgxQ   \n",
      "\n",
      "   stars  useful  funny  cool  \\\n",
      "0      3       0      0     0   \n",
      "1      5       1      0     1   \n",
      "2      3       0      0     0   \n",
      "3      5       1      0     1   \n",
      "4      4       1      0     1   \n",
      "\n",
      "                                                text                date  \\\n",
      "0  If you decide to eat here, just be aware it is... 2018-07-07 22:09:11   \n",
      "1  I've taken a lot of spin classes over the year... 2012-01-03 15:28:18   \n",
      "2  Family diner. Had the buffet. Eclectic assortm... 2014-02-05 20:30:30   \n",
      "3  Wow!  Yummy, different,  delicious.   Our favo... 2015-01-04 00:01:03   \n",
      "4  Cute interior and owner (?) gave us tour of up... 2017-01-14 20:54:15   \n",
      "\n",
      "   month  year  \n",
      "0      7  2018  \n",
      "1      1  2012  \n",
      "2      2  2014  \n",
      "3      1  2015  \n",
      "4      1  2017  \n"
     ]
    }
   ],
   "source": [
    "print(business_raw.head())\n",
    "business_dropped = business_raw.drop(['latitude', 'longitude', 'review_count', 'categories'], axis=1)\n",
    "business_dropped.rename(columns={'stars_x': 'overall_rating'}, inplace=True)\n",
    "\n",
    "print(review_raw.head())\n",
    "review_raw['date'] = pd.to_datetime(review_raw['date'])\n",
    "review_raw['month'] = review_raw['date'].dt.month\n",
    "review_raw['year'] = review_raw['date'].dt.year\n",
    "review_dropped = review_raw.drop(['funny', 'cool', 'date'], axis=1)\n",
    "review_dropped.rename(columns={'stars_y': 'review_rating'}, inplace=True)"
   ]
  },
  {
   "cell_type": "markdown",
   "id": "6bea2769-210f-410a-b96e-2d0ecd8201c0",
   "metadata": {},
   "source": [
    "### Merge Data\n",
    "* merge data frames into a single data frame"
   ]
  },
  {
   "cell_type": "code",
   "execution_count": 9,
   "id": "897369aa-32f2-4eb0-9dde-fa651da68dbe",
   "metadata": {},
   "outputs": [],
   "source": [
    "df_merged = pd.merge(business_dropped, review_dropped, on='business_id', how='inner')"
   ]
  },
  {
   "cell_type": "markdown",
   "id": "bac2bbae-bd10-40cb-8033-9b331fc12d51",
   "metadata": {},
   "source": [
    "### Select Data\n",
    "* Business: First Watch\n",
    "* Location: Florida (State)\n",
    "* Review dates: June 2022 through September 2022"
   ]
  },
  {
   "cell_type": "markdown",
   "id": "f6848041-5791-464c-b5f5-47c0b9bf727e",
   "metadata": {},
   "source": [
    "#### Spell check 'First Watch'"
   ]
  },
  {
   "cell_type": "code",
   "execution_count": 10,
   "id": "3d5718e9-03f5-4c4a-bded-55280e650f14",
   "metadata": {},
   "outputs": [
    {
     "name": "stdout",
     "output_type": "stream",
     "text": [
      "data frame contains First Watch: True\n",
      "no variants of \"First Watch\" found: True\n"
     ]
    }
   ],
   "source": [
    "check_for_firstwatch = 'First Watch' in df_merged['name'].values\n",
    "count_firstwatch = df_merged['name'].eq('First Watch').sum()\n",
    "count_firstwatch_variants = df_merged['name'].str.contains(r'\\bfirst watch\\b', case=False, na=False).sum()\n",
    "print(f'data frame contains First Watch: {check_for_firstwatch}')\n",
    "print(f'no variants of \"First Watch\" found: {count_firstwatch==count_firstwatch_variants}')"
   ]
  },
  {
   "cell_type": "markdown",
   "id": "b3b871e2-610a-4ca6-9cce-6e0376b4d6ff",
   "metadata": {},
   "source": [
    "#### Data extraction"
   ]
  },
  {
   "cell_type": "code",
   "execution_count": 11,
   "id": "8e1434f7-5590-4526-a05a-95a10e671759",
   "metadata": {},
   "outputs": [],
   "source": [
    "df_raw = df_merged[(df_merged['state'] == 'FL') & \n",
    "    (df_merged['name'] == 'First Watch') & \n",
    "    (df_merged['year'] == 2019) &\n",
    "    (df_merged['month'] >= 6) &\n",
    "    (df_merged['month'] <= 9)\n",
    "]"
   ]
  },
  {
   "cell_type": "markdown",
   "id": "d2ec8a41-ff01-415c-b91e-2a4b4571bbca",
   "metadata": {},
   "source": [
    "## EDA and Data Wrangling"
   ]
  },
  {
   "cell_type": "code",
   "execution_count": 12,
   "id": "dd23a098-a8df-410a-9b8b-b8ff9d3aa0d5",
   "metadata": {},
   "outputs": [
    {
     "name": "stdout",
     "output_type": "stream",
     "text": [
      "<class 'pandas.core.frame.DataFrame'>\n",
      "Index: 244 entries, 105643 to 6984780\n",
      "Data columns (total 17 columns):\n",
      " #   Column       Non-Null Count  Dtype  \n",
      "---  ------       --------------  -----  \n",
      " 0   business_id  244 non-null    object \n",
      " 1   name         244 non-null    object \n",
      " 2   address      244 non-null    object \n",
      " 3   city         244 non-null    object \n",
      " 4   state        244 non-null    object \n",
      " 5   postal_code  244 non-null    object \n",
      " 6   stars_x      244 non-null    float64\n",
      " 7   is_open      244 non-null    int64  \n",
      " 8   attributes   244 non-null    object \n",
      " 9   hours        244 non-null    object \n",
      " 10  review_id    244 non-null    object \n",
      " 11  user_id      244 non-null    object \n",
      " 12  stars_y      244 non-null    int64  \n",
      " 13  useful       244 non-null    int64  \n",
      " 14  text         244 non-null    object \n",
      " 15  month        244 non-null    int32  \n",
      " 16  year         244 non-null    int32  \n",
      "dtypes: float64(1), int32(2), int64(3), object(11)\n",
      "memory usage: 32.4+ KB\n"
     ]
    }
   ],
   "source": [
    "df_raw.info()"
   ]
  },
  {
   "cell_type": "code",
   "execution_count": 21,
   "id": "7eb67adf-328e-4b08-aa2a-f1acdd6abf5c",
   "metadata": {},
   "outputs": [
    {
     "name": "stdout",
     "output_type": "stream",
     "text": [
      "only unique text entries in the data frame: True\n"
     ]
    }
   ],
   "source": [
    "columns = df_raw.shape\n",
    "uniques = df_raw['text'].nunique()\n",
    "print(f'only unique text entries in the data frame: {uniques==columns[0]}')"
   ]
  },
  {
   "cell_type": "code",
   "execution_count": 33,
   "id": "7c9c86e4-06d2-446d-b1d3-482c48f7b0b9",
   "metadata": {},
   "outputs": [
    {
     "data": {
      "text/plain": [
       "city\n",
       "Tampa              48\n",
       "St. Petersburg     42\n",
       "Wesley Chapel      27\n",
       "Riverview          24\n",
       "Clearwater         22\n",
       "Lutz               20\n",
       "Oldsmar            15\n",
       "New Port Richey    12\n",
       "Brandon            12\n",
       "Palm Harbor        11\n",
       "Largo              11\n",
       "Name: count, dtype: int64"
      ]
     },
     "execution_count": 33,
     "metadata": {},
     "output_type": "execute_result"
    }
   ],
   "source": [
    "df_raw['city'].value_counts()"
   ]
  },
  {
   "cell_type": "code",
   "execution_count": 65,
   "id": "95556ca9-4c12-496d-bcd8-5da2b48b8864",
   "metadata": {},
   "outputs": [
    {
     "data": {
      "text/html": [
       "<div>\n",
       "<style scoped>\n",
       "    .dataframe tbody tr th:only-of-type {\n",
       "        vertical-align: middle;\n",
       "    }\n",
       "\n",
       "    .dataframe tbody tr th {\n",
       "        vertical-align: top;\n",
       "    }\n",
       "\n",
       "    .dataframe thead th {\n",
       "        text-align: right;\n",
       "    }\n",
       "</style>\n",
       "<table border=\"1\" class=\"dataframe\">\n",
       "  <thead>\n",
       "    <tr style=\"text-align: right;\">\n",
       "      <th></th>\n",
       "      <th>business_id</th>\n",
       "      <th>min_rating</th>\n",
       "      <th>max_rating</th>\n",
       "      <th>median_rating</th>\n",
       "      <th>mad</th>\n",
       "    </tr>\n",
       "  </thead>\n",
       "  <tbody>\n",
       "    <tr>\n",
       "      <th>0</th>\n",
       "      <td>1u2IlvwOMndfuRk9EVcieQ</td>\n",
       "      <td>2</td>\n",
       "      <td>5</td>\n",
       "      <td>5.0</td>\n",
       "      <td>0.0</td>\n",
       "    </tr>\n",
       "    <tr>\n",
       "      <th>1</th>\n",
       "      <td>Awkrb1wzFxz5w1Ixc9W3FA</td>\n",
       "      <td>2</td>\n",
       "      <td>5</td>\n",
       "      <td>4.0</td>\n",
       "      <td>1.0</td>\n",
       "    </tr>\n",
       "    <tr>\n",
       "      <th>2</th>\n",
       "      <td>FMUvCniLe8m8BHSYUsnH2w</td>\n",
       "      <td>2</td>\n",
       "      <td>5</td>\n",
       "      <td>5.0</td>\n",
       "      <td>0.0</td>\n",
       "    </tr>\n",
       "    <tr>\n",
       "      <th>3</th>\n",
       "      <td>I7SkoqN88fpKagzKA059Fw</td>\n",
       "      <td>1</td>\n",
       "      <td>5</td>\n",
       "      <td>5.0</td>\n",
       "      <td>0.0</td>\n",
       "    </tr>\n",
       "    <tr>\n",
       "      <th>4</th>\n",
       "      <td>IDU-TR01EtRLCMvI_CcOyQ</td>\n",
       "      <td>1</td>\n",
       "      <td>5</td>\n",
       "      <td>5.0</td>\n",
       "      <td>0.0</td>\n",
       "    </tr>\n",
       "    <tr>\n",
       "      <th>5</th>\n",
       "      <td>QdUbpCOvFbYb_RzlPxOonQ</td>\n",
       "      <td>1</td>\n",
       "      <td>5</td>\n",
       "      <td>4.0</td>\n",
       "      <td>1.0</td>\n",
       "    </tr>\n",
       "    <tr>\n",
       "      <th>6</th>\n",
       "      <td>RhBsbZ8N_bSH-jD9X9FFZg</td>\n",
       "      <td>2</td>\n",
       "      <td>5</td>\n",
       "      <td>5.0</td>\n",
       "      <td>0.0</td>\n",
       "    </tr>\n",
       "    <tr>\n",
       "      <th>7</th>\n",
       "      <td>Scd-rcsQCn60t1sHHFv-og</td>\n",
       "      <td>2</td>\n",
       "      <td>5</td>\n",
       "      <td>5.0</td>\n",
       "      <td>0.0</td>\n",
       "    </tr>\n",
       "    <tr>\n",
       "      <th>8</th>\n",
       "      <td>VX7GkJDnhPG8NmrdO1V-6Q</td>\n",
       "      <td>2</td>\n",
       "      <td>5</td>\n",
       "      <td>4.5</td>\n",
       "      <td>0.5</td>\n",
       "    </tr>\n",
       "    <tr>\n",
       "      <th>9</th>\n",
       "      <td>VgPDZyDLIWe4NVetnvjqig</td>\n",
       "      <td>1</td>\n",
       "      <td>5</td>\n",
       "      <td>4.5</td>\n",
       "      <td>0.5</td>\n",
       "    </tr>\n",
       "    <tr>\n",
       "      <th>10</th>\n",
       "      <td>c4T4fWfNdnlyOgBN0a5JFA</td>\n",
       "      <td>1</td>\n",
       "      <td>5</td>\n",
       "      <td>5.0</td>\n",
       "      <td>0.0</td>\n",
       "    </tr>\n",
       "    <tr>\n",
       "      <th>11</th>\n",
       "      <td>faYU9nWyhiYeSwiP05ojvQ</td>\n",
       "      <td>1</td>\n",
       "      <td>5</td>\n",
       "      <td>5.0</td>\n",
       "      <td>0.0</td>\n",
       "    </tr>\n",
       "    <tr>\n",
       "      <th>12</th>\n",
       "      <td>h81N-kVGvV9f_PWJQJN9YA</td>\n",
       "      <td>2</td>\n",
       "      <td>5</td>\n",
       "      <td>5.0</td>\n",
       "      <td>0.0</td>\n",
       "    </tr>\n",
       "    <tr>\n",
       "      <th>13</th>\n",
       "      <td>jaa0QoRrf2OFIhJIvmBCOg</td>\n",
       "      <td>1</td>\n",
       "      <td>5</td>\n",
       "      <td>5.0</td>\n",
       "      <td>0.0</td>\n",
       "    </tr>\n",
       "    <tr>\n",
       "      <th>14</th>\n",
       "      <td>s3ZR7G5l-YN5fqms8vRSRw</td>\n",
       "      <td>3</td>\n",
       "      <td>5</td>\n",
       "      <td>5.0</td>\n",
       "      <td>0.0</td>\n",
       "    </tr>\n",
       "    <tr>\n",
       "      <th>15</th>\n",
       "      <td>zBHAoHU-SD7wECkKpTGImg</td>\n",
       "      <td>1</td>\n",
       "      <td>5</td>\n",
       "      <td>5.0</td>\n",
       "      <td>0.0</td>\n",
       "    </tr>\n",
       "  </tbody>\n",
       "</table>\n",
       "</div>"
      ],
      "text/plain": [
       "               business_id  min_rating  max_rating  median_rating  mad\n",
       "0   1u2IlvwOMndfuRk9EVcieQ           2           5            5.0  0.0\n",
       "1   Awkrb1wzFxz5w1Ixc9W3FA           2           5            4.0  1.0\n",
       "2   FMUvCniLe8m8BHSYUsnH2w           2           5            5.0  0.0\n",
       "3   I7SkoqN88fpKagzKA059Fw           1           5            5.0  0.0\n",
       "4   IDU-TR01EtRLCMvI_CcOyQ           1           5            5.0  0.0\n",
       "5   QdUbpCOvFbYb_RzlPxOonQ           1           5            4.0  1.0\n",
       "6   RhBsbZ8N_bSH-jD9X9FFZg           2           5            5.0  0.0\n",
       "7   Scd-rcsQCn60t1sHHFv-og           2           5            5.0  0.0\n",
       "8   VX7GkJDnhPG8NmrdO1V-6Q           2           5            4.5  0.5\n",
       "9   VgPDZyDLIWe4NVetnvjqig           1           5            4.5  0.5\n",
       "10  c4T4fWfNdnlyOgBN0a5JFA           1           5            5.0  0.0\n",
       "11  faYU9nWyhiYeSwiP05ojvQ           1           5            5.0  0.0\n",
       "12  h81N-kVGvV9f_PWJQJN9YA           2           5            5.0  0.0\n",
       "13  jaa0QoRrf2OFIhJIvmBCOg           1           5            5.0  0.0\n",
       "14  s3ZR7G5l-YN5fqms8vRSRw           3           5            5.0  0.0\n",
       "15  zBHAoHU-SD7wECkKpTGImg           1           5            5.0  0.0"
      ]
     },
     "execution_count": 65,
     "metadata": {},
     "output_type": "execute_result"
    }
   ],
   "source": [
    "\n",
    "ratings = df_raw.groupby('business_id')['stars_y'].agg(\n",
    "    min_rating='min',\n",
    "    max_rating='max',\n",
    "    median_rating='median',\n",
    "       mad=lambda x: abs(x-x.median()).median()\n",
    ").reset_index()\n",
    "ratings"
   ]
  },
  {
   "cell_type": "code",
   "execution_count": null,
   "id": "0ac77ef7-189a-44a8-a37b-210249e79c28",
   "metadata": {},
   "outputs": [],
   "source": [
    "df"
   ]
  },
  {
   "cell_type": "code",
   "execution_count": null,
   "id": "9ff5a3d3-fa32-490d-8c2a-c0480c8e7a2e",
   "metadata": {},
   "outputs": [],
   "source": []
  }
 ],
 "metadata": {
  "kernelspec": {
   "display_name": "Python 3 (ipykernel)",
   "language": "python",
   "name": "python3"
  },
  "language_info": {
   "codemirror_mode": {
    "name": "ipython",
    "version": 3
   },
   "file_extension": ".py",
   "mimetype": "text/x-python",
   "name": "python",
   "nbconvert_exporter": "python",
   "pygments_lexer": "ipython3",
   "version": "3.12.5"
  }
 },
 "nbformat": 4,
 "nbformat_minor": 5
}
